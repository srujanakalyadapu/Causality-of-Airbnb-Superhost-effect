{
  "nbformat": 4,
  "nbformat_minor": 0,
  "metadata": {
    "colab": {
      "provenance": []
    },
    "kernelspec": {
      "name": "python3",
      "display_name": "Python 3"
    },
    "language_info": {
      "name": "python"
    }
  },
  "cells": [
    {
      "cell_type": "code",
      "execution_count": null,
      "metadata": {
        "colab": {
          "base_uri": "https://localhost:8080/"
        },
        "id": "UijeU1VNRNK6",
        "outputId": "882d7732-8b8b-40dc-d63b-53ae7608fada"
      },
      "outputs": [
        {
          "output_type": "stream",
          "name": "stdout",
          "text": [
            "(120217, 39)\n",
            "First 5 rows of the new dataframe:\n"
          ]
        },
        {
          "output_type": "execute_result",
          "data": {
            "text/plain": [
              "(120217, 39)"
            ]
          },
          "metadata": {},
          "execution_count": 3
        }
      ],
      "source": [
        "# Import necessary libraries\n",
        "import pandas as pd\n",
        "\n",
        "# Load the data from the CSV file\n",
        "df = pd.read_csv('/content/airbnb_Chicago.csv')\n",
        "\n",
        "# Select the desired columns\n",
        "selected_columns = ['Airbnb Property ID', 'superhost_period_all','host_is_superhost_in_period','prev_host_is_superhost_in_period', 'numCancel_pastYear',\n",
        "       'prop_5_StarReviews_pastYear', 'numReserv_pastYear',\n",
        "       'hostResponseAverage_pastYear', 'available_days_aveListedPrice', 'Pets Allowed',\n",
        "       'Property Type', 'Listing Type', 'Zipcode', 'Bedrooms', 'Bathrooms',\n",
        "       'Max Guests', 'Cleaning Fee (USD)', 'Minimum Stay', 'Number of Photos',\n",
        "       'Instantbook Enabled', 'Nightly Rate',\n",
        "       'Number of Reviews', 'Rating Overall', 'occupancy_rate',\n",
        "       'zip_total_population', 'zip_hispanic_or_latino_anyrace_percent',\n",
        "       'zip_white_nothispanic_percent', 'zip_black_nothispanic_percent',\n",
        "       'zip_asian_nothispanic_percent','rating_ave_pastYear', 'numReviews_pastYear', 'numReservedDays_pastYear', 'prev_revenue','prev_occupancy_rate','tract_prev_superhosts','tract_prev_superhosts_ratio','prev_Rating Overall','prev_Number of Reviews','prev_Nightly Rate']\n",
        "\n",
        "# Create a new dataframe with selected columns\n",
        "data = df[selected_columns]\n",
        "print(data.shape)\n",
        "# Display the first few rows of the new dataframe\n",
        "print(\"First 5 rows of the new dataframe:\")\n",
        "data.shape\n",
        "\n",
        "# Explore other analysis tasks with the new dataframe as needed...\n"
      ]
    },
    {
      "cell_type": "code",
      "source": [
        "Threshold_rating_jm = 0.7\n",
        "Threshold_trips_jm = 8\n",
        "Threshold_rr_jm = 80\n",
        "Threshold_cr_jm = 5\n",
        "\n",
        "Threshold_rating_jp = 0.9\n",
        "Threshold_trips_jp = 12\n",
        "Threshold_rr_jp = 95\n"
      ],
      "metadata": {
        "id": "kcVUr5F9ac6s"
      },
      "execution_count": null,
      "outputs": []
    },
    {
      "cell_type": "code",
      "source": [
        "data['superhost_period_all'].unique()"
      ],
      "metadata": {
        "colab": {
          "base_uri": "https://localhost:8080/"
        },
        "id": "Iq9K4HjkIi6l",
        "outputId": "79ecc728-d055-4dec-e235-80312fd6dab9"
      },
      "execution_count": null,
      "outputs": [
        {
          "output_type": "execute_result",
          "data": {
            "text/plain": [
              "array([13., 15., 18., 19., 20.,  5.,  6.,  7.,  8.,  9., 10., 11., 12.,\n",
              "       14., 16., 17.])"
            ]
          },
          "metadata": {},
          "execution_count": 5
        }
      ]
    },
    {
      "cell_type": "code",
      "source": [
        "p1 = 14\n",
        "p2 = 15\n",
        "p3 = 16"
      ],
      "metadata": {
        "id": "AupkqAP024Jj"
      },
      "execution_count": null,
      "outputs": []
    },
    {
      "cell_type": "code",
      "source": [
        "data_10 = data[\n",
        "    (data['prop_5_StarReviews_pastYear'] >= Threshold_rating_jm) &\n",
        "    (data['numReserv_pastYear'] >= Threshold_trips_jm) &\n",
        "    (data['hostResponseAverage_pastYear'] >= Threshold_rr_jm) &\n",
        "    (data['numCancel_pastYear'] <= Threshold_cr_jm) &\n",
        "    (data['host_is_superhost_in_period'] == 0) &\n",
        "    (data['superhost_period_all'] == p1)\n",
        "]\n"
      ],
      "metadata": {
        "id": "cyRqSZ1JoEoW"
      },
      "execution_count": null,
      "outputs": []
    },
    {
      "cell_type": "code",
      "source": [
        "data_10.shape"
      ],
      "metadata": {
        "colab": {
          "base_uri": "https://localhost:8080/"
        },
        "id": "l6m9OEN30KjP",
        "outputId": "c7241b5a-18db-4886-e6fa-fe95711a9c8e"
      },
      "execution_count": null,
      "outputs": [
        {
          "output_type": "execute_result",
          "data": {
            "text/plain": [
              "(1987, 39)"
            ]
          },
          "metadata": {},
          "execution_count": 8
        }
      ]
    },
    {
      "cell_type": "code",
      "source": [
        "data_11thperiod_jm = data[(\n",
        "    (data['prop_5_StarReviews_pastYear'] >= Threshold_rating_jm) &\n",
        "    (data['numReserv_pastYear'] >= Threshold_trips_jm) &\n",
        "    (data['hostResponseAverage_pastYear'] >= Threshold_rr_jm) &\n",
        "    (data['numCancel_pastYear'] <= Threshold_cr_jm) &\n",
        "    (data['host_is_superhost_in_period'] == 0)&\n",
        "    (data['superhost_period_all'] == p2)\n",
        ")]\n",
        "data_11thperiod_jm['treatment'] = 0\n",
        "\n",
        "data_11thperiod_jp = data[\n",
        "    ((data['prop_5_StarReviews_pastYear'] <= Threshold_rating_jp) |\n",
        "    (data['numReserv_pastYear'] <= Threshold_trips_jp) |\n",
        "    (data['hostResponseAverage_pastYear'] <= Threshold_rr_jp)) &\n",
        "    (data['host_is_superhost_in_period'] == 1)&\n",
        "    (data['superhost_period_all'] == p2)\n",
        "]\n",
        "data_11thperiod_jp['treatment'] = 1\n",
        "\n",
        "data_11 = pd.concat([data_11thperiod_jm, data_11thperiod_jp], axis=0, ignore_index=True)\n",
        "print(data_11thperiod_jm.shape)\n",
        "print(data_11thperiod_jp.shape)"
      ],
      "metadata": {
        "colab": {
          "base_uri": "https://localhost:8080/"
        },
        "id": "17kWKmTIgqfd",
        "outputId": "6e771196-b5a1-40c2-85c2-8c2717e896dd"
      },
      "execution_count": null,
      "outputs": [
        {
          "output_type": "stream",
          "name": "stdout",
          "text": [
            "(1896, 40)\n",
            "(1515, 40)\n"
          ]
        },
        {
          "output_type": "stream",
          "name": "stderr",
          "text": [
            "<ipython-input-9-18edf1d2dbfd>:9: SettingWithCopyWarning: \n",
            "A value is trying to be set on a copy of a slice from a DataFrame.\n",
            "Try using .loc[row_indexer,col_indexer] = value instead\n",
            "\n",
            "See the caveats in the documentation: https://pandas.pydata.org/pandas-docs/stable/user_guide/indexing.html#returning-a-view-versus-a-copy\n",
            "  data_11thperiod_jm['treatment'] = 0\n",
            "<ipython-input-9-18edf1d2dbfd>:18: SettingWithCopyWarning: \n",
            "A value is trying to be set on a copy of a slice from a DataFrame.\n",
            "Try using .loc[row_indexer,col_indexer] = value instead\n",
            "\n",
            "See the caveats in the documentation: https://pandas.pydata.org/pandas-docs/stable/user_guide/indexing.html#returning-a-view-versus-a-copy\n",
            "  data_11thperiod_jp['treatment'] = 1\n"
          ]
        }
      ]
    },
    {
      "cell_type": "code",
      "source": [
        "# Merge the two DataFrames based on 'Airbnb Property ID'\n",
        "data_10 = pd.merge(data_10, data_11[['Airbnb Property ID', 'treatment']], on='Airbnb Property ID', how='left')\n"
      ],
      "metadata": {
        "id": "doO3isvApmVT"
      },
      "execution_count": null,
      "outputs": []
    },
    {
      "cell_type": "code",
      "source": [
        "common_property_ids = pd.Series(list(set(data_11['Airbnb Property ID']).intersection(set(data_10['Airbnb Property ID']))))\n",
        "# Filter both dataframes to only include rows with common Property_IDs\n",
        "\n",
        "df1_filtered = data_11[data_11['Airbnb Property ID'].isin(common_property_ids)]\n",
        "df2_filtered = data_10[data_10['Airbnb Property ID'].isin(common_property_ids)]\n",
        "# Concatenate the data frames\n",
        "df = pd.concat([df1_filtered, df2_filtered])"
      ],
      "metadata": {
        "id": "3nJf-Fnnkj5U"
      },
      "execution_count": null,
      "outputs": []
    },
    {
      "cell_type": "code",
      "source": [
        "df.shape"
      ],
      "metadata": {
        "colab": {
          "base_uri": "https://localhost:8080/"
        },
        "id": "G4AqRAq0lsgS",
        "outputId": "ba2b4bb4-3922-437c-d0ed-e062ac646e05"
      },
      "execution_count": null,
      "outputs": [
        {
          "output_type": "execute_result",
          "data": {
            "text/plain": [
              "(2778, 40)"
            ]
          },
          "metadata": {},
          "execution_count": 12
        }
      ]
    },
    {
      "cell_type": "code",
      "source": [
        "df['period'] = df['superhost_period_all'].map({p1: 0, p2: 1})"
      ],
      "metadata": {
        "id": "7R9qxF5YvHWw"
      },
      "execution_count": null,
      "outputs": []
    },
    {
      "cell_type": "code",
      "source": [
        "df = df.dropna()\n",
        "\n",
        "df.shape"
      ],
      "metadata": {
        "colab": {
          "base_uri": "https://localhost:8080/"
        },
        "id": "gtSGhMvZvqZ9",
        "outputId": "7ddd6f55-cce5-48a4-8fd9-63e553e3d599"
      },
      "execution_count": null,
      "outputs": [
        {
          "output_type": "execute_result",
          "data": {
            "text/plain": [
              "(1467, 41)"
            ]
          },
          "metadata": {},
          "execution_count": 14
        }
      ]
    },
    {
      "cell_type": "code",
      "source": [
        "import matplotlib.pyplot as plt\n",
        "\n",
        "# Filter rows where treatment column is equal to 1\n",
        "treatment_df = df[df['treatment'] == 1]\n",
        "\n",
        "# Create a bar chart for occupancy rates for each period\n",
        "plt.figure(figsize=(12, 4))\n",
        "for period in df['period'].unique():\n",
        "    period_data_treatment = treatment_df[treatment_df['period'] == period]\n",
        "    plt.bar(period, period_data_treatment['occupancy_rate'].mean(), label=f'Period {period}')\n",
        "\n",
        "plt.title('Occupancy Rates for Treatment Group (Treatment=1) in Each Period')\n",
        "plt.xlabel('Period')\n",
        "plt.ylabel('Average Occupancy Rate')\n",
        "plt.legend()\n",
        "plt.show()\n"
      ],
      "metadata": {
        "colab": {
          "base_uri": "https://localhost:8080/",
          "height": 410
        },
        "id": "pWtRGWAeF_l4",
        "outputId": "27d8730a-6e43-4f0e-a6f4-0c5b6bfe794f"
      },
      "execution_count": null,
      "outputs": [
        {
          "output_type": "display_data",
          "data": {
            "text/plain": [
              "<Figure size 1200x400 with 1 Axes>"
            ],
            "image/png": "[encoded data removed]"
          },
          "metadata": {}
        }
      ]
    },
    {
      "cell_type": "code",
      "source": [
        "import matplotlib.pyplot as plt\n",
        "\n",
        "# Filter rows where treatment column is equal to 1\n",
        "control_df = df[df['treatment'] == 0]\n",
        "\n",
        "# Create a bar chart for occupancy rates for each period\n",
        "plt.figure(figsize=(12, 4))\n",
        "for period in df['period'].unique():\n",
        "    period_data_control = control_df[control_df['period'] == period]\n",
        "    plt.bar(period, period_data_control['occupancy_rate'].mean(), label=f'Period {period}')\n",
        "\n",
        "plt.title('Occupancy Rates for Control Group (Treatment=0) in Each Period')\n",
        "plt.xlabel('Period')\n",
        "plt.ylabel('Average Occupancy Rate')\n",
        "plt.legend()\n",
        "plt.show()\n"
      ],
      "metadata": {
        "colab": {
          "base_uri": "https://localhost:8080/",
          "height": 410
        },
        "id": "moEoYosQmmuj",
        "outputId": "42efbd25-e7ee-463e-94b6-56af8aa7de4d"
      },
      "execution_count": null,
      "outputs": [
        {
          "output_type": "display_data",
          "data": {
            "text/plain": [
              "<Figure size 1200x400 with 1 Axes>"
            ],
            "image/png": "[encoded data removed]"
          },
          "metadata": {}
        }
      ]
    },
    {
      "cell_type": "code",
      "source": [
        "# Filter rows where superhost_period_all equals 12\n",
        "data_12 = data[data['superhost_period_all'] == p3]\n"
      ],
      "metadata": {
        "id": "Fw-kw03BHluG"
      },
      "execution_count": null,
      "outputs": []
    },
    {
      "cell_type": "code",
      "source": [
        "data_12.head()"
      ],
      "metadata": {
        "colab": {
          "base_uri": "https://localhost:8080/",
          "height": 290
        },
        "id": "s8bla9NdUse8",
        "outputId": "88ca5d1b-ce82-4b2a-9666-cbd8f9f6b941"
      },
      "execution_count": null,
      "outputs": [
        {
          "output_type": "execute_result",
          "data": {
            "text/plain": [
              "    Airbnb Property ID  superhost_period_all  host_is_superhost_in_period  \\\n",
              "16              2384.0                  16.0                          1.0   \n",
              "32              4505.0                  16.0                          1.0   \n",
              "51              7005.0                  16.0                          0.0   \n",
              "63              7126.0                  16.0                          0.0   \n",
              "79              9811.0                  16.0                          0.0   \n",
              "\n",
              "    prev_host_is_superhost_in_period  numCancel_pastYear  \\\n",
              "16                               1.0                 0.0   \n",
              "32                               1.0                 0.0   \n",
              "51                               0.0                 1.0   \n",
              "63                               0.0                 0.0   \n",
              "79                               0.0                 2.0   \n",
              "\n",
              "    prop_5_StarReviews_pastYear  numReserv_pastYear  \\\n",
              "16                     1.000000                53.0   \n",
              "32                     0.791667                54.0   \n",
              "51                     1.000000                29.0   \n",
              "63                     0.797101                71.0   \n",
              "79                     0.691358               270.0   \n",
              "\n",
              "    hostResponseAverage_pastYear  available_days_aveListedPrice  Pets Allowed  \\\n",
              "16                    100.000000                      64.953368         False   \n",
              "32                     96.928571                     107.898876         False   \n",
              "51                    100.000000                      82.000000         False   \n",
              "63                    100.000000                      73.994652         False   \n",
              "79                     94.533835                     109.495868         False   \n",
              "\n",
              "    ... rating_ave_pastYear numReviews_pastYear  numReservedDays_pastYear  \\\n",
              "16  ...            5.000000                31.0                     227.0   \n",
              "32  ...            4.791667                24.0                     153.0   \n",
              "51  ...            5.000000                15.0                     339.0   \n",
              "63  ...            4.724638                69.0                     186.0   \n",
              "79  ...            4.592593                81.0                    1558.0   \n",
              "\n",
              "    prev_revenue  prev_occupancy_rate  tract_prev_superhosts  \\\n",
              "16        4392.0             0.337719                    3.0   \n",
              "32        4113.0             0.175532                   13.0   \n",
              "51           NaN                  NaN                   12.0   \n",
              "63        6034.0             0.352941                   27.0   \n",
              "79        1651.0             0.100840                   25.0   \n",
              "\n",
              "    tract_prev_superhosts_ratio  prev_Rating Overall  prev_Number of Reviews  \\\n",
              "16                     0.500000                100.0                   141.0   \n",
              "32                     0.541667                 96.0                   366.0   \n",
              "51                     0.272727                  NaN                     NaN   \n",
              "63                     0.540000                 92.0                   331.0   \n",
              "79                     0.446429                 93.0                    33.0   \n",
              "\n",
              "    prev_Nightly Rate  \n",
              "16               75.0  \n",
              "32              152.0  \n",
              "51                NaN  \n",
              "63               90.0  \n",
              "79              230.0  \n",
              "\n",
              "[5 rows x 39 columns]"
            ],
            "text/html": [
              "\n",
              "  <div id=\"df-7c1da9d4-7c93-45ac-9727-704459e9c3b2\" class=\"colab-df-container\">\n",
              "    <div>\n",
              "<style scoped>\n",
              "    .dataframe tbody tr th:only-of-type {\n",
              "        vertical-align: middle;\n",
              "    }\n",
              "\n",
              "    .dataframe tbody tr th {\n",
              "        vertical-align: top;\n",
              "    }\n",
              "\n",
              "    .dataframe thead th {\n",
              "        text-align: right;\n",
              "    }\n",
              "</style>\n",
              "<table border=\"1\" class=\"dataframe\">\n",
              "  <thead>\n",
              "    <tr style=\"text-align: right;\">\n",
              "      <th></th>\n",
              "      <th>Airbnb Property ID</th>\n",
              "      <th>superhost_period_all</th>\n",
              "      <th>host_is_superhost_in_period</th>\n",
              "      <th>prev_host_is_superhost_in_period</th>\n",
              "      <th>numCancel_pastYear</th>\n",
              "      <th>prop_5_StarReviews_pastYear</th>\n",
              "      <th>numReserv_pastYear</th>\n",
              "      <th>hostResponseAverage_pastYear</th>\n",
              "      <th>available_days_aveListedPrice</th>\n",
              "      <th>Pets Allowed</th>\n",
              "      <th>...</th>\n",
              "      <th>rating_ave_pastYear</th>\n",
              "      <th>numReviews_pastYear</th>\n",
              "      <th>numReservedDays_pastYear</th>\n",
              "      <th>prev_revenue</th>\n",
              "      <th>prev_occupancy_rate</th>\n",
              "      <th>tract_prev_superhosts</th>\n",
              "      <th>tract_prev_superhosts_ratio</th>\n",
              "      <th>prev_Rating Overall</th>\n",
              "      <th>prev_Number of Reviews</th>\n",
              "      <th>prev_Nightly Rate</th>\n",
              "    </tr>\n",
              "  </thead>\n",
              "  <tbody>\n",
              "    <tr>\n",
              "      <th>16</th>\n",
              "      <td>2384.0</td>\n",
              "      <td>16.0</td>\n",
              "      <td>1.0</td>\n",
              "      <td>1.0</td>\n",
              "      <td>0.0</td>\n",
              "      <td>1.000000</td>\n",
              "      <td>53.0</td>\n",
              "      <td>100.000000</td>\n",
              "      <td>64.953368</td>\n",
              "      <td>False</td>\n",
              "      <td>...</td>\n",
              "      <td>5.000000</td>\n",
              "      <td>31.0</td>\n",
              "      <td>227.0</td>\n",
              "      <td>4392.0</td>\n",
              "      <td>0.337719</td>\n",
              "      <td>3.0</td>\n",
              "      <td>0.500000</td>\n",
              "      <td>100.0</td>\n",
              "      <td>141.0</td>\n",
              "      <td>75.0</td>\n",
              "    </tr>\n",
              "    <tr>\n",
              "      <th>32</th>\n",
              "      <td>4505.0</td>\n",
              "      <td>16.0</td>\n",
              "      <td>1.0</td>\n",
              "      <td>1.0</td>\n",
              "      <td>0.0</td>\n",
              "      <td>0.791667</td>\n",
              "      <td>54.0</td>\n",
              "      <td>96.928571</td>\n",
              "      <td>107.898876</td>\n",
              "      <td>False</td>\n",
              "      <td>...</td>\n",
              "      <td>4.791667</td>\n",
              "      <td>24.0</td>\n",
              "      <td>153.0</td>\n",
              "      <td>4113.0</td>\n",
              "      <td>0.175532</td>\n",
              "      <td>13.0</td>\n",
              "      <td>0.541667</td>\n",
              "      <td>96.0</td>\n",
              "      <td>366.0</td>\n",
              "      <td>152.0</td>\n",
              "    </tr>\n",
              "    <tr>\n",
              "      <th>51</th>\n",
              "      <td>7005.0</td>\n",
              "      <td>16.0</td>\n",
              "      <td>0.0</td>\n",
              "      <td>0.0</td>\n",
              "      <td>1.0</td>\n",
              "      <td>1.000000</td>\n",
              "      <td>29.0</td>\n",
              "      <td>100.000000</td>\n",
              "      <td>82.000000</td>\n",
              "      <td>False</td>\n",
              "      <td>...</td>\n",
              "      <td>5.000000</td>\n",
              "      <td>15.0</td>\n",
              "      <td>339.0</td>\n",
              "      <td>NaN</td>\n",
              "      <td>NaN</td>\n",
              "      <td>12.0</td>\n",
              "      <td>0.272727</td>\n",
              "      <td>NaN</td>\n",
              "      <td>NaN</td>\n",
              "      <td>NaN</td>\n",
              "    </tr>\n",
              "    <tr>\n",
              "      <th>63</th>\n",
              "      <td>7126.0</td>\n",
              "      <td>16.0</td>\n",
              "      <td>0.0</td>\n",
              "      <td>0.0</td>\n",
              "      <td>0.0</td>\n",
              "      <td>0.797101</td>\n",
              "      <td>71.0</td>\n",
              "      <td>100.000000</td>\n",
              "      <td>73.994652</td>\n",
              "      <td>False</td>\n",
              "      <td>...</td>\n",
              "      <td>4.724638</td>\n",
              "      <td>69.0</td>\n",
              "      <td>186.0</td>\n",
              "      <td>6034.0</td>\n",
              "      <td>0.352941</td>\n",
              "      <td>27.0</td>\n",
              "      <td>0.540000</td>\n",
              "      <td>92.0</td>\n",
              "      <td>331.0</td>\n",
              "      <td>90.0</td>\n",
              "    </tr>\n",
              "    <tr>\n",
              "      <th>79</th>\n",
              "      <td>9811.0</td>\n",
              "      <td>16.0</td>\n",
              "      <td>0.0</td>\n",
              "      <td>0.0</td>\n",
              "      <td>2.0</td>\n",
              "      <td>0.691358</td>\n",
              "      <td>270.0</td>\n",
              "      <td>94.533835</td>\n",
              "      <td>109.495868</td>\n",
              "      <td>False</td>\n",
              "      <td>...</td>\n",
              "      <td>4.592593</td>\n",
              "      <td>81.0</td>\n",
              "      <td>1558.0</td>\n",
              "      <td>1651.0</td>\n",
              "      <td>0.100840</td>\n",
              "      <td>25.0</td>\n",
              "      <td>0.446429</td>\n",
              "      <td>93.0</td>\n",
              "      <td>33.0</td>\n",
              "      <td>230.0</td>\n",
              "    </tr>\n",
              "  </tbody>\n",
              "</table>\n",
              "<p>5 rows × 39 columns</p>\n",
              "</div>\n",
              "    <div class=\"colab-df-buttons\">\n",
              "\n",
              "  <div class=\"colab-df-container\">\n",
              "    <button class=\"colab-df-convert\" onclick=\"convertToInteractive('df-7c1da9d4-7c93-45ac-9727-704459e9c3b2')\"\n",
              "            title=\"Convert this dataframe to an interactive table.\"\n",
              "            style=\"display:none;\">\n",
              "\n",
              "  <svg xmlns=\"http://www.w3.org/2000/svg\" height=\"24px\" viewBox=\"0 -960 960 960\">\n",
              "    <path d=\"M120-120v-720h720v720H120Zm60-500h600v-160H180v160Zm220 220h160v-160H400v160Zm0 220h160v-160H400v160ZM180-400h160v-160H180v160Zm440 0h160v-160H620v160ZM180-180h160v-160H180v160Zm440 0h160v-160H620v160Z\"/>\n",
              "  </svg>\n",
              "    </button>\n",
              "\n",
              "  <style>\n",
              "    .colab-df-container {\n",
              "      display:flex;\n",
              "      gap: 12px;\n",
              "    }\n",
              "\n",
              "    .colab-df-convert {\n",
              "      background-color: #E8F0FE;\n",
              "      border: none;\n",
              "      border-radius: 50%;\n",
              "      cursor: pointer;\n",
              "      display: none;\n",
              "      fill: #1967D2;\n",
              "      height: 32px;\n",
              "      padding: 0 0 0 0;\n",
              "      width: 32px;\n",
              "    }\n",
              "\n",
              "    .colab-df-convert:hover {\n",
              "      background-color: #E2EBFA;\n",
              "      box-shadow: 0px 1px 2px rgba(60, 64, 67, 0.3), 0px 1px 3px 1px rgba(60, 64, 67, 0.15);\n",
              "      fill: #174EA6;\n",
              "    }\n",
              "\n",
              "    .colab-df-buttons div {\n",
              "      margin-bottom: 4px;\n",
              "    }\n",
              "\n",
              "    [theme=dark] .colab-df-convert {\n",
              "      background-color: #3B4455;\n",
              "      fill: #D2E3FC;\n",
              "    }\n",
              "\n",
              "    [theme=dark] .colab-df-convert:hover {\n",
              "      background-color: #434B5C;\n",
              "      box-shadow: 0px 1px 3px 1px rgba(0, 0, 0, 0.15);\n",
              "      filter: drop-shadow(0px 1px 2px rgba(0, 0, 0, 0.3));\n",
              "      fill: #FFFFFF;\n",
              "    }\n",
              "  </style>\n",
              "\n",
              "    <script>\n",
              "      const buttonEl =\n",
              "        document.querySelector('#df-7c1da9d4-7c93-45ac-9727-704459e9c3b2 button.colab-df-convert');\n",
              "      buttonEl.style.display =\n",
              "        google.colab.kernel.accessAllowed ? 'block' : 'none';\n",
              "\n",
              "      async function convertToInteractive(key) {\n",
              "        const element = document.querySelector('#df-7c1da9d4-7c93-45ac-9727-704459e9c3b2');\n",
              "        const dataTable =\n",
              "          await google.colab.kernel.invokeFunction('convertToInteractive',\n",
              "                                                    [key], {});\n",
              "        if (!dataTable) return;\n",
              "\n",
              "        const docLinkHtml = 'Like what you see? Visit the ' +\n",
              "          '<a target=\"_blank\" href=https://colab.research.google.com/notebooks/data_table.ipynb>data table notebook</a>'\n",
              "          + ' to learn more about interactive tables.';\n",
              "        element.innerHTML = '';\n",
              "        dataTable['output_type'] = 'display_data';\n",
              "        await google.colab.output.renderOutput(dataTable, element);\n",
              "        const docLink = document.createElement('div');\n",
              "        docLink.innerHTML = docLinkHtml;\n",
              "        element.appendChild(docLink);\n",
              "      }\n",
              "    </script>\n",
              "  </div>\n",
              "\n",
              "\n",
              "<div id=\"df-60db8306-2e7b-4ea7-8964-dfaf28fa3f48\">\n",
              "  <button class=\"colab-df-quickchart\" onclick=\"quickchart('df-60db8306-2e7b-4ea7-8964-dfaf28fa3f48')\"\n",
              "            title=\"Suggest charts\"\n",
              "            style=\"display:none;\">\n",
              "\n",
              "<svg xmlns=\"http://www.w3.org/2000/svg\" height=\"24px\"viewBox=\"0 0 24 24\"\n",
              "     width=\"24px\">\n",
              "    <g>\n",
              "        <path d=\"M19 3H5c-1.1 0-2 .9-2 2v14c0 1.1.9 2 2 2h14c1.1 0 2-.9 2-2V5c0-1.1-.9-2-2-2zM9 17H7v-7h2v7zm4 0h-2V7h2v10zm4 0h-2v-4h2v4z\"/>\n",
              "    </g>\n",
              "</svg>\n",
              "  </button>\n",
              "\n",
              "<style>\n",
              "  .colab-df-quickchart {\n",
              "      --bg-color: #E8F0FE;\n",
              "      --fill-color: #1967D2;\n",
              "      --hover-bg-color: #E2EBFA;\n",
              "      --hover-fill-color: #174EA6;\n",
              "      --disabled-fill-color: #AAA;\n",
              "      --disabled-bg-color: #DDD;\n",
              "  }\n",
              "\n",
              "  [theme=dark] .colab-df-quickchart {\n",
              "      --bg-color: #3B4455;\n",
              "      --fill-color: #D2E3FC;\n",
              "      --hover-bg-color: #434B5C;\n",
              "      --hover-fill-color: #FFFFFF;\n",
              "      --disabled-bg-color: #3B4455;\n",
              "      --disabled-fill-color: #666;\n",
              "  }\n",
              "\n",
              "  .colab-df-quickchart {\n",
              "    background-color: var(--bg-color);\n",
              "    border: none;\n",
              "    border-radius: 50%;\n",
              "    cursor: pointer;\n",
              "    display: none;\n",
              "    fill: var(--fill-color);\n",
              "    height: 32px;\n",
              "    padding: 0;\n",
              "    width: 32px;\n",
              "  }\n",
              "\n",
              "  .colab-df-quickchart:hover {\n",
              "    background-color: var(--hover-bg-color);\n",
              "    box-shadow: 0 1px 2px rgba(60, 64, 67, 0.3), 0 1px 3px 1px rgba(60, 64, 67, 0.15);\n",
              "    fill: var(--button-hover-fill-color);\n",
              "  }\n",
              "\n",
              "  .colab-df-quickchart-complete:disabled,\n",
              "  .colab-df-quickchart-complete:disabled:hover {\n",
              "    background-color: var(--disabled-bg-color);\n",
              "    fill: var(--disabled-fill-color);\n",
              "    box-shadow: none;\n",
              "  }\n",
              "\n",
              "  .colab-df-spinner {\n",
              "    border: 2px solid var(--fill-color);\n",
              "    border-color: transparent;\n",
              "    border-bottom-color: var(--fill-color);\n",
              "    animation:\n",
              "      spin 1s steps(1) infinite;\n",
              "  }\n",
              "\n",
              "  @keyframes spin {\n",
              "    0% {\n",
              "      border-color: transparent;\n",
              "      border-bottom-color: var(--fill-color);\n",
              "      border-left-color: var(--fill-color);\n",
              "    }\n",
              "    20% {\n",
              "      border-color: transparent;\n",
              "      border-left-color: var(--fill-color);\n",
              "      border-top-color: var(--fill-color);\n",
              "    }\n",
              "    30% {\n",
              "      border-color: transparent;\n",
              "      border-left-color: var(--fill-color);\n",
              "      border-top-color: var(--fill-color);\n",
              "      border-right-color: var(--fill-color);\n",
              "    }\n",
              "    40% {\n",
              "      border-color: transparent;\n",
              "      border-right-color: var(--fill-color);\n",
              "      border-top-color: var(--fill-color);\n",
              "    }\n",
              "    60% {\n",
              "      border-color: transparent;\n",
              "      border-right-color: var(--fill-color);\n",
              "    }\n",
              "    80% {\n",
              "      border-color: transparent;\n",
              "      border-right-color: var(--fill-color);\n",
              "      border-bottom-color: var(--fill-color);\n",
              "    }\n",
              "    90% {\n",
              "      border-color: transparent;\n",
              "      border-bottom-color: var(--fill-color);\n",
              "    }\n",
              "  }\n",
              "</style>\n",
              "\n",
              "  <script>\n",
              "    async function quickchart(key) {\n",
              "      const quickchartButtonEl =\n",
              "        document.querySelector('#' + key + ' button');\n",
              "      quickchartButtonEl.disabled = true;  // To prevent multiple clicks.\n",
              "      quickchartButtonEl.classList.add('colab-df-spinner');\n",
              "      try {\n",
              "        const charts = await google.colab.kernel.invokeFunction(\n",
              "            'suggestCharts', [key], {});\n",
              "      } catch (error) {\n",
              "        console.error('Error during call to suggestCharts:', error);\n",
              "      }\n",
              "      quickchartButtonEl.classList.remove('colab-df-spinner');\n",
              "      quickchartButtonEl.classList.add('colab-df-quickchart-complete');\n",
              "    }\n",
              "    (() => {\n",
              "      let quickchartButtonEl =\n",
              "        document.querySelector('#df-60db8306-2e7b-4ea7-8964-dfaf28fa3f48 button');\n",
              "      quickchartButtonEl.style.display =\n",
              "        google.colab.kernel.accessAllowed ? 'block' : 'none';\n",
              "    })();\n",
              "  </script>\n",
              "</div>\n",
              "    </div>\n",
              "  </div>\n"
            ]
          },
          "metadata": {},
          "execution_count": 18
        }
      ]
    },
    {
      "cell_type": "code",
      "source": [
        "# Check for duplicate values in 'Airbnb Property ID' in data_11 or data_12\n",
        "duplicate_ids_11 = data_11['Airbnb Property ID'].duplicated()\n",
        "duplicate_ids_12 = data_12['Airbnb Property ID'].duplicated()\n",
        "\n",
        "# Merge df with data_11 and data_12 based on 'Airbnb Property ID'\n",
        "merged_df = pd.merge(df, data_11[['Airbnb Property ID', 'occupancy_rate']], on='Airbnb Property ID', how='left', suffixes=('', '_11'))\n",
        "merged_df = pd.merge(merged_df, data_12[['Airbnb Property ID', 'occupancy_rate']], on='Airbnb Property ID', how='left', suffixes=('', '_12'))\n",
        "\n",
        "# Create a new column 'occupancy_rate_next' in df based on the values from data_11 and data_12\n",
        "df['occupancy_rate_next'] = None  # Initialize the column with None\n",
        "\n",
        "# Reset the index to avoid non-unique column names issue\n",
        "merged_df = merged_df.reset_index(drop=True)\n",
        "df = df.reset_index(drop=True)\n",
        "\n",
        "# Rename columns to make them unique\n",
        "merged_df = merged_df.rename(columns={'occupancy_rate_11': 'occupancy_rate_11', 'occupancy_rate_12': 'occupancy_rate_12'})\n",
        "\n",
        "# Convert the 'occupancy_rate_next' column to float\n",
        "df['occupancy_rate_next'] = pd.to_numeric(merged_df['occupancy_rate_11'], errors='coerce').where(df['period'] == 0, pd.to_numeric(merged_df['occupancy_rate_12'], errors='coerce'))\n"
      ],
      "metadata": {
        "id": "oUeE0naWN3ky"
      },
      "execution_count": null,
      "outputs": []
    },
    {
      "cell_type": "code",
      "source": [
        "\n",
        "# Print the updated DataFrame\n",
        "df = df.dropna()\n"
      ],
      "metadata": {
        "id": "zVokAwkyTyoa"
      },
      "execution_count": null,
      "outputs": []
    },
    {
      "cell_type": "code",
      "source": [
        "df.shape"
      ],
      "metadata": {
        "colab": {
          "base_uri": "https://localhost:8080/"
        },
        "id": "2QGU6hrvcgBD",
        "outputId": "2f183314-5024-42bf-d157-d924d74243e9"
      },
      "execution_count": null,
      "outputs": [
        {
          "output_type": "execute_result",
          "data": {
            "text/plain": [
              "(1303, 42)"
            ]
          },
          "metadata": {},
          "execution_count": 21
        }
      ]
    },
    {
      "cell_type": "code",
      "source": [
        "import pandas as pd\n",
        "import numpy as np\n",
        "import statsmodels.api as sm\n",
        "\n",
        "# Assuming 'occupancy_rate', 'period', 'treatment' are column names\n",
        "# Create the interaction term\n",
        "df['interaction_term'] = df['period'] * df['treatment']\n",
        "\n",
        "# Separate features (X) and target variable (y)\n",
        "# X = df[['period', 'treatment', 'interaction_term', 'numCancel_pastYear',\n",
        "#        'prop_5_StarReviews_pastYear', 'numReserv_pastYear',\n",
        "#        'hostResponseAverage_pastYear','rating_ave_pastYear', 'numReviews_pastYear', 'prev_occupancy_rate','prev_revenue', 'numReservedDays_pastYear','Property Type','Pets Allowed','prev_Rating Overall','prev_Number of Reviews','prev_Nightly Rate']]\n",
        "\n",
        "X = df[['period', 'treatment', 'interaction_term', 'numCancel_pastYear',\n",
        "       'prop_5_StarReviews_pastYear', 'numReserv_pastYear',\n",
        "       'hostResponseAverage_pastYear','rating_ave_pastYear', 'numReviews_pastYear', 'numReservedDays_pastYear','Property Type','Pets Allowed','prev_Rating Overall','prev_Number of Reviews','prev_Nightly Rate', 'Bedrooms', 'Bathrooms',\n",
        "       'Max Guests', 'Cleaning Fee (USD)', 'Minimum Stay', 'Number of Photos',\n",
        "       'Instantbook Enabled', 'Nightly Rate',\n",
        "       'Number of Reviews', 'Rating Overall', 'zip_total_population', 'zip_hispanic_or_latino_anyrace_percent',\n",
        "       'zip_white_nothispanic_percent', 'zip_black_nothispanic_percent',\n",
        "       'zip_asian_nothispanic_percent']]\n",
        "\n",
        "X = pd.get_dummies(X, columns=['Pets Allowed', 'Property Type'])\n",
        "# y = df[['occupancy_rate_next']]\n",
        "y = np.log1p(df[['occupancy_rate']])\n",
        "\n",
        "# Add a constant term for the intercept\n",
        "X = sm.add_constant(X)\n",
        "\n",
        "# Fit the regression model\n",
        "model = sm.OLS(y, X)\n",
        "results = model.fit()\n",
        "\n",
        "# Print the summary of the regression model\n",
        "print(results.summary())\n"
      ],
      "metadata": {
        "colab": {
          "base_uri": "https://localhost:8080/"
        },
        "id": "9UTwO8jJvgVC",
        "outputId": "a3e0b719-1a47-43e1-dfc4-8f7023419097"
      },
      "execution_count": null,
      "outputs": [
        {
          "output_type": "stream",
          "name": "stdout",
          "text": [
            "                            OLS Regression Results                            \n",
            "==============================================================================\n",
            "Dep. Variable:         occupancy_rate   R-squared:                       0.267\n",
            "Model:                            OLS   Adj. R-squared:                  0.243\n",
            "Method:                 Least Squares   F-statistic:                     10.93\n",
            "Date:                Sat, 09 Dec 2023   Prob (F-statistic):           2.16e-59\n",
            "Time:                        01:07:41   Log-Likelihood:                 1295.5\n",
            "No. Observations:                1303   AIC:                            -2505.\n",
            "Df Residuals:                    1260   BIC:                            -2283.\n",
            "Df Model:                          42                                         \n",
            "Covariance Type:            nonrobust                                         \n",
            "===========================================================================================================\n",
            "                                              coef    std err          t      P>|t|      [0.025      0.975]\n",
            "-----------------------------------------------------------------------------------------------------------\n",
            "const                                      -0.0914      0.251     -0.365      0.715      -0.583       0.400\n",
            "period                                      0.0741      0.006     12.597      0.000       0.063       0.086\n",
            "treatment                                  -0.0104      0.011     -0.959      0.338      -0.032       0.011\n",
            "interaction_term                            0.0297      0.015      2.009      0.045       0.001       0.059\n",
            "numCancel_pastYear                          0.0051      0.003      1.658      0.098      -0.001       0.011\n",
            "prop_5_StarReviews_pastYear                -0.1476      0.078     -1.900      0.058      -0.300       0.005\n",
            "numReserv_pastYear                       3.515e-05   3.36e-05      1.047      0.295   -3.07e-05       0.000\n",
            "hostResponseAverage_pastYear             5.736e-05      0.001      0.057      0.955      -0.002       0.002\n",
            "rating_ave_pastYear                         0.2111      0.051      4.151      0.000       0.111       0.311\n",
            "numReviews_pastYear                      9.441e-06   2.32e-05      0.407      0.684   -3.61e-05    5.49e-05\n",
            "numReservedDays_pastYear                -9.254e-07   1.17e-05     -0.079      0.937   -2.39e-05     2.2e-05\n",
            "prev_Rating Overall                        -0.0005      0.001     -0.448      0.654      -0.003       0.002\n",
            "prev_Number of Reviews                     -0.0044      0.001     -8.455      0.000      -0.005      -0.003\n",
            "prev_Nightly Rate                        6.571e-06   6.14e-05      0.107      0.915      -0.000       0.000\n",
            "Bedrooms                                   -0.0037      0.004     -0.874      0.382      -0.012       0.005\n",
            "Bathrooms                                   0.0121      0.006      2.191      0.029       0.001       0.023\n",
            "Max Guests                                 -0.0009      0.002     -0.557      0.578      -0.004       0.002\n",
            "Cleaning Fee (USD)                       9.975e-05   8.37e-05      1.192      0.234   -6.45e-05       0.000\n",
            "Minimum Stay                               -0.0004      0.000     -0.847      0.397      -0.001       0.000\n",
            "Number of Photos                           -0.0004      0.000     -1.820      0.069      -0.001    3.05e-05\n",
            "Instantbook Enabled                         0.0039      0.006      0.658      0.510      -0.008       0.016\n",
            "Nightly Rate                            -4.016e-05   5.97e-05     -0.673      0.501      -0.000     7.7e-05\n",
            "Number of Reviews                           0.0044      0.000      8.804      0.000       0.003       0.005\n",
            "Rating Overall                              0.0013      0.001      1.145      0.252      -0.001       0.003\n",
            "zip_total_population                     7.457e-08   1.61e-07      0.464      0.643   -2.41e-07     3.9e-07\n",
            "zip_hispanic_or_latino_anyrace_percent     -0.0079      0.003     -2.458      0.014      -0.014      -0.002\n",
            "zip_white_nothispanic_percent              -0.0078      0.003     -2.387      0.017      -0.014      -0.001\n",
            "zip_black_nothispanic_percent              -0.0080      0.003     -2.477      0.013      -0.014      -0.002\n",
            "zip_asian_nothispanic_percent              -0.0082      0.003     -2.501      0.013      -0.015      -0.002\n",
            "Pets Allowed_False                         -0.0475      0.126     -0.378      0.705      -0.294       0.199\n",
            "Pets Allowed_True                          -0.0438      0.125     -0.351      0.726      -0.289       0.201\n",
            "Property Type_Apartment                     0.0141      0.021      0.678      0.498      -0.027       0.055\n",
            "Property Type_Bed and breakfast            -0.0029      0.064     -0.045      0.964      -0.128       0.123\n",
            "Property Type_Boat                          0.0777      0.064      1.209      0.227      -0.048       0.204\n",
            "Property Type_Bungalow                     -0.0131      0.038     -0.347      0.729      -0.087       0.061\n",
            "Property Type_Castle                       -0.0814      0.064     -1.268      0.205      -0.207       0.045\n",
            "Property Type_Condominium                   0.0116      0.022      0.536      0.592      -0.031       0.054\n",
            "Property Type_Guest suite                   0.0014      0.027      0.049      0.961      -0.052       0.055\n",
            "Property Type_Guesthouse                   -0.0629      0.064     -0.985      0.325      -0.188       0.062\n",
            "Property Type_House                        -0.0104      0.022     -0.481      0.631      -0.053       0.032\n",
            "Property Type_Loft                          0.0021      0.025      0.084      0.933      -0.046       0.050\n",
            "Property Type_Room in bed and breakfast    -0.0679      0.054     -1.266      0.206      -0.173       0.037\n",
            "Property Type_Room in boutique hotel        0.0456      0.065      0.700      0.484      -0.082       0.173\n",
            "Property Type_Serviced apartment            0.0256      0.041      0.622      0.534      -0.055       0.106\n",
            "Property Type_Townhouse                    -0.0308      0.029     -1.077      0.281      -0.087       0.025\n",
            "==============================================================================\n",
            "Omnibus:                      216.961   Durbin-Watson:                   1.823\n",
            "Prob(Omnibus):                  0.000   Jarque-Bera (JB):              414.522\n",
            "Skew:                           1.000   Prob(JB):                     9.72e-91\n",
            "Kurtosis:                       4.906   Cond. No.                     1.09e+16\n",
            "==============================================================================\n",
            "\n",
            "Notes:\n",
            "[1] Standard Errors assume that the covariance matrix of the errors is correctly specified.\n",
            "[2] The smallest eigenvalue is 4.11e-20. This might indicate that there are\n",
            "strong multicollinearity problems or that the design matrix is singular.\n"
          ]
        }
      ]
    },
    {
      "cell_type": "code",
      "source": [
        "df['Airbnb Property ID'].unique()"
      ],
      "metadata": {
        "colab": {
          "base_uri": "https://localhost:8080/",
          "height": 179
        },
        "id": "2VI0MVoWrbTg",
        "outputId": "c99bf8c2-e827-4b94-a675-73f3e34e2eb7"
      },
      "execution_count": null,
      "outputs": [
        {
          "output_type": "error",
          "ename": "NameError",
          "evalue": "ignored",
          "traceback": [
            "\u001b[0;31m---------------------------------------------------------------------------\u001b[0m",
            "\u001b[0;31mNameError\u001b[0m                                 Traceback (most recent call last)",
            "\u001b[0;32m<ipython-input-2-721ed67f8fe1>\u001b[0m in \u001b[0;36m<cell line: 1>\u001b[0;34m()\u001b[0m\n\u001b[0;32m----> 1\u001b[0;31m \u001b[0mdf\u001b[0m\u001b[0;34m[\u001b[0m\u001b[0;34m'Airbnb Property ID'\u001b[0m\u001b[0;34m]\u001b[0m\u001b[0;34m.\u001b[0m\u001b[0munique\u001b[0m\u001b[0;34m(\u001b[0m\u001b[0;34m)\u001b[0m\u001b[0;34m\u001b[0m\u001b[0;34m\u001b[0m\u001b[0m\n\u001b[0m",
            "\u001b[0;31mNameError\u001b[0m: name 'df' is not defined"
          ]
        }
      ]
    }
  ]
}